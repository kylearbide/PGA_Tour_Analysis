{
 "cells": [
  {
   "cell_type": "code",
   "execution_count": 1,
   "id": "cfca4524",
   "metadata": {},
   "outputs": [
    {
     "name": "stdout",
     "output_type": "stream",
     "text": [
      "Requirement already satisfied: beautifulsoup4 in c:\\users\\thatb\\anaconda3\\lib\\site-packages (4.9.3)\n",
      "Requirement already satisfied: soupsieve>1.2 in c:\\users\\thatb\\anaconda3\\lib\\site-packages (from beautifulsoup4) (2.2.1)\n",
      "Note: you may need to restart the kernel to use updated packages.\n",
      "Requirement already satisfied: lxml in c:\\users\\thatb\\anaconda3\\lib\\site-packages (4.6.3)\n",
      "Note: you may need to restart the kernel to use updated packages.\n",
      "Requirement already satisfied: selenium in c:\\users\\thatb\\anaconda3\\lib\\site-packages (4.1.0)\n",
      "Requirement already satisfied: trio~=0.17 in c:\\users\\thatb\\anaconda3\\lib\\site-packages (from selenium) (0.19.0)\n",
      "Requirement already satisfied: trio-websocket~=0.9 in c:\\users\\thatb\\anaconda3\\lib\\site-packages (from selenium) (0.9.2)\n",
      "Requirement already satisfied: urllib3[secure]~=1.26 in c:\\users\\thatb\\anaconda3\\lib\\site-packages (from selenium) (1.26.4)\n",
      "Requirement already satisfied: cffi>=1.14 in c:\\users\\thatb\\anaconda3\\lib\\site-packages (from trio~=0.17->selenium) (1.14.5)\n",
      "Requirement already satisfied: attrs>=19.2.0 in c:\\users\\thatb\\anaconda3\\lib\\site-packages (from trio~=0.17->selenium) (20.3.0)\n",
      "Requirement already satisfied: idna in c:\\users\\thatb\\anaconda3\\lib\\site-packages (from trio~=0.17->selenium) (2.10)\n",
      "Requirement already satisfied: sniffio in c:\\users\\thatb\\anaconda3\\lib\\site-packages (from trio~=0.17->selenium) (1.2.0)\n",
      "Requirement already satisfied: async-generator>=1.9 in c:\\users\\thatb\\anaconda3\\lib\\site-packages (from trio~=0.17->selenium) (1.10)\n",
      "Requirement already satisfied: outcome in c:\\users\\thatb\\anaconda3\\lib\\site-packages (from trio~=0.17->selenium) (1.1.0)\n",
      "Requirement already satisfied: sortedcontainers in c:\\users\\thatb\\anaconda3\\lib\\site-packages (from trio~=0.17->selenium) (2.3.0)\n",
      "Requirement already satisfied: pycparser in c:\\users\\thatb\\anaconda3\\lib\\site-packages (from cffi>=1.14->trio~=0.17->selenium) (2.20)\n",
      "Requirement already satisfied: wsproto>=0.14 in c:\\users\\thatb\\anaconda3\\lib\\site-packages (from trio-websocket~=0.9->selenium) (1.0.0)\n",
      "Requirement already satisfied: pyOpenSSL>=0.14 in c:\\users\\thatb\\anaconda3\\lib\\site-packages (from urllib3[secure]~=1.26->selenium) (20.0.1)\n",
      "Requirement already satisfied: cryptography>=1.3.4 in c:\\users\\thatb\\anaconda3\\lib\\site-packages (from urllib3[secure]~=1.26->selenium) (3.4.7)\n",
      "Requirement already satisfied: certifi in c:\\users\\thatb\\anaconda3\\lib\\site-packages (from urllib3[secure]~=1.26->selenium) (2020.12.5)\n",
      "Requirement already satisfied: six>=1.5.2 in c:\\users\\thatb\\anaconda3\\lib\\site-packages (from pyOpenSSL>=0.14->urllib3[secure]~=1.26->selenium) (1.15.0)\n",
      "Requirement already satisfied: h11<1,>=0.9.0 in c:\\users\\thatb\\anaconda3\\lib\\site-packages (from wsproto>=0.14->trio-websocket~=0.9->selenium) (0.12.0)\n",
      "Note: you may need to restart the kernel to use updated packages.\n"
     ]
    }
   ],
   "source": [
    "%pip install beautifulsoup4\n",
    "%pip install lxml\n",
    "%pip install selenium"
   ]
  },
  {
   "cell_type": "code",
   "execution_count": 2,
   "id": "a9e7f110",
   "metadata": {},
   "outputs": [],
   "source": [
    "from bs4 import BeautifulSoup\n",
    "import requests\n",
    "from selenium import webdriver\n",
    "import pandas as pd\n",
    "import time"
   ]
  },
  {
   "cell_type": "code",
   "execution_count": 3,
   "id": "964c9d3c",
   "metadata": {},
   "outputs": [],
   "source": [
    "driver = webdriver.Chrome()\n",
    "driver.get('https://www.masters.com/en_US/tournament/past_winners.html')\n",
    "soup = BeautifulSoup(driver.page_source, 'html.parser')\n",
    "driver.quit()"
   ]
  },
  {
   "cell_type": "code",
   "execution_count": 4,
   "id": "05dfec78",
   "metadata": {},
   "outputs": [],
   "source": [
    "allscores = soup.find('tbody')\n",
    "headers = soup.find('thead')"
   ]
  },
  {
   "cell_type": "code",
   "execution_count": 5,
   "id": "db3bfe3c",
   "metadata": {},
   "outputs": [
    {
     "name": "stdout",
     "output_type": "stream",
     "text": [
      "<thead><tr><th class=\"first-col\">Pos</th><th class=\"first-col\">Player</th><th class=\"cell active\">R1</th><th class=\"cell active\">R2</th><th class=\"cell active\">R3</th><th class=\"cell active\">R4</th><th class=\"cell active\">Total Score</th><th class=\"cell active\">Total Par</th></tr></thead>\n"
     ]
    }
   ],
   "source": [
    "print(headers)"
   ]
  },
  {
   "cell_type": "code",
   "execution_count": 6,
   "id": "0af1f4ff",
   "metadata": {},
   "outputs": [],
   "source": [
    "scores_list = allscores.find_all('tr')\n",
    "headers_list = headers.find_all('th')"
   ]
  },
  {
   "cell_type": "code",
   "execution_count": 7,
   "id": "10985efb",
   "metadata": {},
   "outputs": [],
   "source": [
    "df_headers = [col.text for col in headers_list]"
   ]
  },
  {
   "cell_type": "code",
   "execution_count": 8,
   "id": "c6f4c435",
   "metadata": {},
   "outputs": [],
   "source": [
    "def pull_player_scores(allPlayerScores,heads):\n",
    "    year_scores = pd.DataFrame(columns = heads)\n",
    "    for player in allPlayerScores:\n",
    "        scores = player.find_all('td')\n",
    "        item_list = [[item.text for item in scores]]\n",
    "        player_scores = pd.DataFrame(item_list, columns = heads)\n",
    "        year_scores = pd.concat([year_scores,player_scores])\n",
    "        \n",
    "    return(year_scores)"
   ]
  },
  {
   "cell_type": "code",
   "execution_count": 9,
   "id": "aa94743c",
   "metadata": {
    "scrolled": true
   },
   "outputs": [],
   "source": [
    "#scores_2020 = pull_player_scores(scores_list, df_headers)"
   ]
  },
  {
   "cell_type": "code",
   "execution_count": 9,
   "id": "da917cf9",
   "metadata": {},
   "outputs": [],
   "source": [
    "#Lets make a seperate function for extracting the infor we need (allPlayerScores,heads)\n",
    "def create_lists(page_data):\n",
    "    allscores = page_data.find('tbody')\n",
    "    headers = page_data.find('thead')\n",
    "    \n",
    "    scores_list = allscores.find_all('tr')\n",
    "    headers_list = headers.find_all('th')\n",
    "    \n",
    "    df_headers = [col.text for col in headers_list]\n",
    "    \n",
    "    return(scores_list,df_headers)"
   ]
  },
  {
   "cell_type": "code",
   "execution_count": 39,
   "id": "c59e0154",
   "metadata": {},
   "outputs": [],
   "source": [
    "#List of Years I want\n",
    "years_int = list(range(1993,2021))\n",
    "years = [str(year) for year in years_int]"
   ]
  },
  {
   "cell_type": "code",
   "execution_count": 38,
   "id": "7bd6be55",
   "metadata": {},
   "outputs": [],
   "source": [
    "def pull_one_year(input_year,driver):\n",
    "    \n",
    "    #driver = webdriver.Chrome()\n",
    "    #driver.get('https://www.masters.com/en_US/tournament/past_winners.html')\n",
    "    \n",
    "    #close_privacy = driver.find_element_by_xpath(\"//div[@class= 'privacy-close']//i[@class='icon-close']\")\n",
    "    #close_privacy.click()\n",
    "    #We only want to loop open the window once when we loop through the yearss so this isn't necessary\n",
    "    \n",
    "    \n",
    "    down_button = driver.find_element_by_xpath(\"//div[@class = 'title navigation_down_arrow']\")\n",
    "    down_button.click()\n",
    "    \n",
    "    time.sleep(0.5)\n",
    "    \n",
    "    year_button = driver.find_element_by_xpath(f\"//div[@class='year-list list1']//li[text() = {input_year}]\")\n",
    "    year_button.click()\n",
    "    \n",
    "    time.sleep(1)\n",
    "    \n",
    "    soup = BeautifulSoup(driver.page_source, 'html.parser')\n",
    "    \n",
    "    #driver.quit()\n",
    "   \n",
    "    pulled_scores,pulled_headers = create_lists(soup)\n",
    "    \n",
    "    scores_df = pull_player_scores(pulled_scores,pulled_headers)\n",
    "    scores_df['Year'] = input_year\n",
    "    \n",
    "    return(scores_df,driver)"
   ]
  },
  {
   "cell_type": "code",
   "execution_count": 19,
   "id": "c433d33d",
   "metadata": {},
   "outputs": [
    {
     "name": "stderr",
     "output_type": "stream",
     "text": [
      "<ipython-input-18-8dc95843d784>:6: DeprecationWarning: find_element_by_* commands are deprecated. Please use find_element() instead\n",
      "  close_privacy = driver.find_element_by_xpath(\"//div[@class= 'privacy-close']//i[@class='icon-close']\")\n",
      "<ipython-input-18-8dc95843d784>:10: DeprecationWarning: find_element_by_* commands are deprecated. Please use find_element() instead\n",
      "  down_button = driver.find_element_by_xpath(\"//div[@class = 'title navigation_down_arrow']\")\n",
      "<ipython-input-18-8dc95843d784>:13: DeprecationWarning: find_element_by_* commands are deprecated. Please use find_element() instead\n",
      "  year_button = driver.find_element_by_xpath(f\"//div[@class='year-list list1']//li[text() = {input_year}]\")\n"
     ]
    },
    {
     "data": {
      "text/html": [
       "<div>\n",
       "<style scoped>\n",
       "    .dataframe tbody tr th:only-of-type {\n",
       "        vertical-align: middle;\n",
       "    }\n",
       "\n",
       "    .dataframe tbody tr th {\n",
       "        vertical-align: top;\n",
       "    }\n",
       "\n",
       "    .dataframe thead th {\n",
       "        text-align: right;\n",
       "    }\n",
       "</style>\n",
       "<table border=\"1\" class=\"dataframe\">\n",
       "  <thead>\n",
       "    <tr style=\"text-align: right;\">\n",
       "      <th></th>\n",
       "      <th>Pos</th>\n",
       "      <th>Player</th>\n",
       "      <th>R1</th>\n",
       "      <th>R2</th>\n",
       "      <th>R3</th>\n",
       "      <th>R4</th>\n",
       "      <th>Total Score</th>\n",
       "      <th>Total Par</th>\n",
       "      <th>Year</th>\n",
       "    </tr>\n",
       "  </thead>\n",
       "  <tbody>\n",
       "    <tr>\n",
       "      <th>0</th>\n",
       "      <td>1</td>\n",
       "      <td>D Johnson</td>\n",
       "      <td>65</td>\n",
       "      <td>70</td>\n",
       "      <td>65</td>\n",
       "      <td>68</td>\n",
       "      <td>268</td>\n",
       "      <td>-20</td>\n",
       "      <td>2019</td>\n",
       "    </tr>\n",
       "    <tr>\n",
       "      <th>0</th>\n",
       "      <td>T2</td>\n",
       "      <td>C Smith</td>\n",
       "      <td>67</td>\n",
       "      <td>68</td>\n",
       "      <td>69</td>\n",
       "      <td>69</td>\n",
       "      <td>273</td>\n",
       "      <td>-15</td>\n",
       "      <td>2019</td>\n",
       "    </tr>\n",
       "    <tr>\n",
       "      <th>0</th>\n",
       "      <td>T2</td>\n",
       "      <td>S Im</td>\n",
       "      <td>66</td>\n",
       "      <td>70</td>\n",
       "      <td>68</td>\n",
       "      <td>69</td>\n",
       "      <td>273</td>\n",
       "      <td>-15</td>\n",
       "      <td>2019</td>\n",
       "    </tr>\n",
       "    <tr>\n",
       "      <th>0</th>\n",
       "      <td>4</td>\n",
       "      <td>J Thomas</td>\n",
       "      <td>66</td>\n",
       "      <td>69</td>\n",
       "      <td>71</td>\n",
       "      <td>70</td>\n",
       "      <td>276</td>\n",
       "      <td>-12</td>\n",
       "      <td>2019</td>\n",
       "    </tr>\n",
       "    <tr>\n",
       "      <th>0</th>\n",
       "      <td>T5</td>\n",
       "      <td>R McIlroy</td>\n",
       "      <td>75</td>\n",
       "      <td>66</td>\n",
       "      <td>67</td>\n",
       "      <td>69</td>\n",
       "      <td>277</td>\n",
       "      <td>-11</td>\n",
       "      <td>2019</td>\n",
       "    </tr>\n",
       "    <tr>\n",
       "      <th>...</th>\n",
       "      <td>...</td>\n",
       "      <td>...</td>\n",
       "      <td>...</td>\n",
       "      <td>...</td>\n",
       "      <td>...</td>\n",
       "      <td>...</td>\n",
       "      <td>...</td>\n",
       "      <td>...</td>\n",
       "      <td>...</td>\n",
       "    </tr>\n",
       "    <tr>\n",
       "      <th>0</th>\n",
       "      <td>MC</td>\n",
       "      <td>J Olazabal</td>\n",
       "      <td>78</td>\n",
       "      <td>80</td>\n",
       "      <td></td>\n",
       "      <td></td>\n",
       "      <td>158</td>\n",
       "      <td>+14</td>\n",
       "      <td>2019</td>\n",
       "    </tr>\n",
       "    <tr>\n",
       "      <th>0</th>\n",
       "      <td>MC</td>\n",
       "      <td>A Landry</td>\n",
       "      <td>78</td>\n",
       "      <td>82</td>\n",
       "      <td></td>\n",
       "      <td></td>\n",
       "      <td>160</td>\n",
       "      <td>+16</td>\n",
       "      <td>2019</td>\n",
       "    </tr>\n",
       "    <tr>\n",
       "      <th>0</th>\n",
       "      <td>MC</td>\n",
       "      <td>A Gallegos</td>\n",
       "      <td>79</td>\n",
       "      <td>81</td>\n",
       "      <td></td>\n",
       "      <td></td>\n",
       "      <td>160</td>\n",
       "      <td>+16</td>\n",
       "      <td>2019</td>\n",
       "    </tr>\n",
       "    <tr>\n",
       "      <th>0</th>\n",
       "      <td>WD</td>\n",
       "      <td>V Singh</td>\n",
       "      <td>75</td>\n",
       "      <td></td>\n",
       "      <td></td>\n",
       "      <td></td>\n",
       "      <td></td>\n",
       "      <td></td>\n",
       "      <td>2019</td>\n",
       "    </tr>\n",
       "    <tr>\n",
       "      <th>0</th>\n",
       "      <td>WD</td>\n",
       "      <td>E Van Rooyen</td>\n",
       "      <td>76</td>\n",
       "      <td></td>\n",
       "      <td></td>\n",
       "      <td></td>\n",
       "      <td></td>\n",
       "      <td></td>\n",
       "      <td>2019</td>\n",
       "    </tr>\n",
       "  </tbody>\n",
       "</table>\n",
       "<p>92 rows × 9 columns</p>\n",
       "</div>"
      ],
      "text/plain": [
       "   Pos        Player  R1  R2  R3  R4 Total Score Total Par  Year\n",
       "0    1     D Johnson  65  70  65  68         268       -20  2019\n",
       "0   T2       C Smith  67  68  69  69         273       -15  2019\n",
       "0   T2          S Im  66  70  68  69         273       -15  2019\n",
       "0    4      J Thomas  66  69  71  70         276       -12  2019\n",
       "0   T5     R McIlroy  75  66  67  69         277       -11  2019\n",
       "..  ..           ...  ..  ..  ..  ..         ...       ...   ...\n",
       "0   MC    J Olazabal  78  80                 158       +14  2019\n",
       "0   MC      A Landry  78  82                 160       +16  2019\n",
       "0   MC    A Gallegos  79  81                 160       +16  2019\n",
       "0   WD       V Singh  75                                    2019\n",
       "0   WD  E Van Rooyen  76                                    2019\n",
       "\n",
       "[92 rows x 9 columns]"
      ]
     },
     "execution_count": 19,
     "metadata": {},
     "output_type": "execute_result"
    }
   ],
   "source": [
    "#pull_one_year('2019')"
   ]
  },
  {
   "cell_type": "code",
   "execution_count": 12,
   "id": "e1c48856",
   "metadata": {},
   "outputs": [],
   "source": [
    "df_headers.append('Year')"
   ]
  },
  {
   "cell_type": "code",
   "execution_count": 37,
   "id": "32553795",
   "metadata": {},
   "outputs": [],
   "source": [
    "def masters_all_years(list_years,headers):\n",
    "    masters_results = pd.DataFrame(columns = headers)\n",
    "    \n",
    "    driver = webdriver.Chrome()\n",
    "    driver.get('https://www.masters.com/en_US/tournament/past_winners.html')\n",
    "    \n",
    "    time.sleep(0.5)\n",
    "    \n",
    "    close_privacy = driver.find_element_by_xpath(\"//div[@class= 'privacy-close']//i[@class='icon-close']\")\n",
    "    close_privacy.click()\n",
    "    \n",
    "    time.sleep(0.5)\n",
    "    for year in list_years:\n",
    "        masters_year, driver = pull_one_year(year,driver)\n",
    "        masters_results = pd.concat([masters_results,masters_year])\n",
    "    \n",
    "    driver.quit()\n",
    "    return(masters_results)"
   ]
  },
  {
   "cell_type": "code",
   "execution_count": 40,
   "id": "5d2e4522",
   "metadata": {},
   "outputs": [
    {
     "name": "stderr",
     "output_type": "stream",
     "text": [
      "<ipython-input-37-2028e45b613d>:9: DeprecationWarning: find_element_by_* commands are deprecated. Please use find_element() instead\n",
      "  close_privacy = driver.find_element_by_xpath(\"//div[@class= 'privacy-close']//i[@class='icon-close']\")\n",
      "<ipython-input-38-307c802c3cc5>:11: DeprecationWarning: find_element_by_* commands are deprecated. Please use find_element() instead\n",
      "  down_button = driver.find_element_by_xpath(\"//div[@class = 'title navigation_down_arrow']\")\n",
      "<ipython-input-38-307c802c3cc5>:16: DeprecationWarning: find_element_by_* commands are deprecated. Please use find_element() instead\n",
      "  year_button = driver.find_element_by_xpath(f\"//div[@class='year-list list1']//li[text() = {input_year}]\")\n"
     ]
    }
   ],
   "source": [
    "masters_data = masters_all_years(years,df_headers)"
   ]
  },
  {
   "cell_type": "code",
   "execution_count": 41,
   "id": "83e38290",
   "metadata": {},
   "outputs": [],
   "source": [
    "masters_winners = masters_data.loc[masters_data[\"Pos\"] == '1']"
   ]
  },
  {
   "cell_type": "code",
   "execution_count": 43,
   "id": "b3bf4c72",
   "metadata": {},
   "outputs": [],
   "source": [
    "#masters_data.to_csv(\"masters_data.csv\")\n",
    "#masters_winners.to_csv(\"masters_winners.csv\")"
   ]
  }
 ],
 "metadata": {
  "kernelspec": {
   "display_name": "Python 3",
   "language": "python",
   "name": "python3"
  },
  "language_info": {
   "codemirror_mode": {
    "name": "ipython",
    "version": 3
   },
   "file_extension": ".py",
   "mimetype": "text/x-python",
   "name": "python",
   "nbconvert_exporter": "python",
   "pygments_lexer": "ipython3",
   "version": "3.8.8"
  }
 },
 "nbformat": 4,
 "nbformat_minor": 5
}
